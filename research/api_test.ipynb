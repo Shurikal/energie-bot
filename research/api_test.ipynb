{
 "cells": [
  {
   "cell_type": "code",
   "execution_count": 2,
   "metadata": {},
   "outputs": [],
   "source": [
    "# import requests\n",
    "import requests\n",
    "import json"
   ]
  },
  {
   "cell_type": "code",
   "execution_count": 43,
   "metadata": {},
   "outputs": [
    {
     "data": {
      "text/plain": [
       "(47.42184829711914, 9.369429588317871)"
      ]
     },
     "execution_count": 43,
     "metadata": {},
     "output_type": "execute_result"
    }
   ],
   "source": [
    "# geo.admin lookup\n",
    "# needs exact address\n",
    "\n",
    "def get_lat_lon_wgs84(address):\n",
    "    url = f\"https://api3.geo.admin.ch/rest/services/api/SearchServer?searchText={address}&type=locations&origins=address\"\n",
    "    response = requests.get(url)\n",
    "    data = response.json()\n",
    "\n",
    "    return data[\"results\"][0][\"attrs\"][\"lat\"], data[\"results\"][0][\"attrs\"][\"lon\"]\n",
    "\n",
    "get_lat_lon_wgs84(\"St. Leonhard-Strasse 45, St. Gallen\")"
   ]
  },
  {
   "cell_type": "code",
   "execution_count": 48,
   "metadata": {},
   "outputs": [
    {
     "name": "stdout",
     "output_type": "stream",
     "text": [
      "[{'place_id': 95207181, 'licence': 'Data © OpenStreetMap contributors, ODbL 1.0. https://osm.org/copyright', 'osm_type': 'node', 'osm_id': 9227670034, 'boundingbox': ['47.4217008', '47.4218008', '9.369398', '9.369498'], 'lat': '47.4217508', 'lon': '9.369448', 'display_name': 'Leo&Co Coworking St. Gallen, 45, St. Leonhard-Strasse, Rosenberg, St. Gallen, Wahlkreis St. Gallen, Sankt Gallen, 9000, Schweiz/Suisse/Svizzera/Svizra', 'class': 'office', 'type': 'coworking', 'importance': 0.41009999999999996}, {'place_id': 44231395, 'licence': 'Data © OpenStreetMap contributors, ODbL 1.0. https://osm.org/copyright', 'osm_type': 'node', 'osm_id': 3653216863, 'boundingbox': ['47.4217836', '47.4218836', '9.369338', '9.369438'], 'lat': '47.4218336', 'lon': '9.369388', 'display_name': '45, St. Leonhard-Strasse, Rosenberg, St. Gallen, Wahlkreis St. Gallen, Sankt Gallen, 9000, Schweiz/Suisse/Svizzera/Svizra', 'class': 'place', 'type': 'house', 'importance': 0.41009999999999996}]\n"
     ]
    },
    {
     "data": {
      "text/plain": [
       "('47.4217508', '9.369448')"
      ]
     },
     "execution_count": 48,
     "metadata": {},
     "output_type": "execute_result"
    }
   ],
   "source": [
    "# get lat lon openstreetmap\n",
    "def get_lat_lon(address):\n",
    "    url = f\"https://nominatim.openstreetmap.org/search?q={address}&format=json\"\n",
    "    response = requests.get(url)\n",
    "    data = response.json()\n",
    "\n",
    "    print(data)\n",
    "\n",
    "    return data[0][\"lat\"], data[0][\"lon\"]\n",
    "\n",
    "get_lat_lon(\"St. Leonhardstrasse 45, St. Gallen\")"
   ]
  },
  {
   "cell_type": "code",
   "execution_count": 4,
   "metadata": {},
   "outputs": [
    {
     "data": {
      "text/plain": [
       "(2745681.0, 1254130.25)"
      ]
     },
     "execution_count": 4,
     "metadata": {},
     "output_type": "execute_result"
    }
   ],
   "source": [
    "def get_easting_northing_lv95(address):\n",
    "\n",
    "    url = f\"https://api3.geo.admin.ch//rest/services/api/SearchServer?lang=de&searchText={address}&type=locations&sr=2056\"\n",
    "    response = requests.get(url)\n",
    "    data = response.json()\n",
    "\n",
    "    return data[\"results\"][0][\"attrs\"][\"y\"], data[\"results\"][0][\"attrs\"][\"x\"]\n",
    "\n",
    "get_easting_northing_lv95(\"St. Leonhard-Strasse 45, St. Gallen\")"
   ]
  },
  {
   "cell_type": "code",
   "execution_count": 5,
   "metadata": {},
   "outputs": [
    {
     "data": {
      "text/plain": [
       "{'nhits': 1,\n",
       " 'parameters': {'dataset': 'warmeversorgung',\n",
       "  'rows': 10,\n",
       "  'start': 0,\n",
       "  'facet': ['waermevers'],\n",
       "  'format': 'json',\n",
       "  'geofilter.distance': ['47.42184829711914,9.369429588317871,1'],\n",
       "  'timezone': 'UTC'},\n",
       " 'records': [{'datasetid': 'warmeversorgung',\n",
       "   'recordid': '41a0060d5f24a87f0c0f390b4e363916bd084a21',\n",
       "   'fields': {'geo_shape': {'coordinates': [[[9.369402092347727,\n",
       "        47.42141803157732],\n",
       "       [9.36880080458217, 47.421178234079115],\n",
       "       [9.36845445807961, 47.42153135919113],\n",
       "       [9.369074349371125, 47.421789138301264],\n",
       "       [9.369639976357611, 47.42203562120369],\n",
       "       [9.369902089204528, 47.42170847062191],\n",
       "       [9.369460130185418, 47.421532842160765],\n",
       "       [9.369402092347727, 47.42141803157732]]],\n",
       "     'type': 'Polygon'},\n",
       "    'waermevers': 'Fernwärme Ergänzungsgebiet',\n",
       "    'geo_point_2d': [47.42160099351865, 9.369180665597083],\n",
       "    'dist': '33.27289013497016'},\n",
       "   'geometry': {'type': 'Point',\n",
       "    'coordinates': [9.369180665597083, 47.42160099351865]},\n",
       "   'record_timestamp': '2022-11-12T05:30:09.726Z'}],\n",
       " 'facet_groups': [{'name': 'waermevers',\n",
       "   'facets': [{'name': 'Fernwärme Ergänzungsgebiet',\n",
       "     'count': 1,\n",
       "     'state': 'displayed',\n",
       "     'path': 'Fernwärme Ergänzungsgebiet'}]}]}"
      ]
     },
     "execution_count": 5,
     "metadata": {},
     "output_type": "execute_result"
    }
   ],
   "source": [
    "# function to get heating info from long and lat\n",
    "\n",
    "def get_heating_info(lat, lon, dist):\n",
    "    url = f\"https://daten.stadt.sg.ch/api/records/1.0/search/?dataset=warmeversorgung&q=&facet=waermevers&geofilter.distance={lat}%2C{lon}%2C{dist}\"\n",
    "    response = requests.get(url)\n",
    "    data = response.json()\n",
    "    return data\n",
    "\n",
    "# function to get heating info from address\n",
    "\n",
    "def get_heating_info_from_address(address, dist):\n",
    "    lat, lon = get_lat_lon_wgs84(address)\n",
    "    return get_heating_info(lat, lon, dist)\n",
    "\n",
    "get_heating_info_from_address(\"St. Leonhard-Strasse 45, St. Gallen\", 1)"
   ]
  },
  {
   "cell_type": "code",
   "execution_count": 6,
   "metadata": {},
   "outputs": [
    {
     "data": {
      "text/plain": [
       "'Fernwärme Ergänzungsgebiet'"
      ]
     },
     "execution_count": 6,
     "metadata": {},
     "output_type": "execute_result"
    }
   ],
   "source": [
    "# function to get waermevers from address\n",
    "\n",
    "def get_waermevers_from_address(address, dist):\n",
    "    data = get_heating_info_from_address(address, dist)\n",
    "    return data[\"records\"][0][\"fields\"][\"waermevers\"]\n",
    "\n",
    "get_waermevers_from_address(\"St. Leonhard-Strasse 45, St. Gallen\", 1)"
   ]
  },
  {
   "cell_type": "markdown",
   "metadata": {},
   "source": [
    "# data from geo.admin.ch\n",
    "\n",
    "ch.bfe.solarenergie-eignung-daecher\n",
    "ch.bfe.solarenergie-eignung-fassaden\n",
    "\n",
    "# get data from geo.admin.ch\n",
    "\n",
    "https://map.geo.admin.ch/?layers=ch.bfe.solarenergie-eignung-daecher&lang=en&topic=ech&bgLayer=ch.swisstopo.pixelkarte-farbe&E=2745681.00&N=1254117.67&zoom=11.371666666666666\n"
   ]
  },
  {
   "cell_type": "code",
   "execution_count": 25,
   "metadata": {},
   "outputs": [
    {
     "data": {
      "text/plain": [
       "[{'type': 'Feature',\n",
       "  'featureId': 16745794,\n",
       "  'bbox': [2745660.3, 1254105.7, 2745705.5, 1254142.5],\n",
       "  'layerBodId': 'ch.bfe.solarenergie-eignung-daecher',\n",
       "  'layerName': 'Solar energy: suitability of roofs',\n",
       "  'id': 16745794,\n",
       "  'geometry': {'type': 'MultiPolygon',\n",
       "   'coordinates': [[[[2745702.8, 1254126.4],\n",
       "      [2745671.5, 1254107.1],\n",
       "      [2745669.2, 1254105.7],\n",
       "      [2745660.3, 1254120.1],\n",
       "      [2745696.6, 1254142.5],\n",
       "      [2745705.5, 1254128.1],\n",
       "      [2745702.8, 1254126.4]],\n",
       "     [[2745661.8, 1254119.4],\n",
       "      [2745669.5, 1254106.9],\n",
       "      [2745704.1, 1254128.3],\n",
       "      [2745696.4, 1254140.8],\n",
       "      [2745661.8, 1254119.4]]]]},\n",
       "  'properties': {'monate': [10, 9, 8, 7, 6, 5, 4, 3, 2, 1, 12, 11],\n",
       "   'building_id': 527069,\n",
       "   'a_param': [0.7768488835,\n",
       "    0.9652010208,\n",
       "    0.9679495756,\n",
       "    0.980280681,\n",
       "    0.9901538902,\n",
       "    0.9768872537,\n",
       "    0.9585564666,\n",
       "    0.9063184743,\n",
       "    0.7307145044,\n",
       "    0.3759406691,\n",
       "    0.3489994673,\n",
       "    0.5538456654],\n",
       "   'b_param': [0.8689646264,\n",
       "    0.9691674958,\n",
       "    1.0244670528,\n",
       "    0.9635810253,\n",
       "    0.9357137619,\n",
       "    0.9188822209,\n",
       "    0.9934626264,\n",
       "    0.9902676501,\n",
       "    0.9607837788,\n",
       "    0.8494011796,\n",
       "    0.8318482567,\n",
       "    0.9443145278],\n",
       "   'c_param': [2.347691756,\n",
       "    -4.0768496177,\n",
       "    -6.6601844688,\n",
       "    -2.8384668483,\n",
       "    -0.9366603131,\n",
       "    0.6607162554,\n",
       "    -4.5326085717,\n",
       "    -3.8339237591,\n",
       "    -2.7862482184,\n",
       "    0.8366027391,\n",
       "    0.3054124468,\n",
       "    -1.7280271213],\n",
       "   'heizgradtage': [240.0,\n",
       "    91.0,\n",
       "    12.0,\n",
       "    11.0,\n",
       "    47.0,\n",
       "    150.0,\n",
       "    275.0,\n",
       "    483.0,\n",
       "    553.0,\n",
       "    612.0,\n",
       "    591.0,\n",
       "    448.0],\n",
       "   'bedarf_heizung': 403982,\n",
       "   'bedarf_warmwasser': 19101,\n",
       "   'datum_aenderung': '2020-12-04T15:22:19',\n",
       "   'datum_erstellung': '2020-12-04T15:22:19',\n",
       "   'dg_heizung': 5,\n",
       "   'dg_waermebedarf': 6,\n",
       "   'duschgaenge': 60,\n",
       "   'flaeche_kollektoren': 70.4251499939,\n",
       "   'gstrahlung': 134716,\n",
       "   'mstrahlung': 1079,\n",
       "   'sb_datum_aenderung': '2015-06-30T14:56:07',\n",
       "   'sb_datum_erstellung': '2015-06-29T00:00:00',\n",
       "   'sb_objektart': 1,\n",
       "   'volumen_speicher': 4800,\n",
       "   'waermeertrag': 25540,\n",
       "   'klasse': 3,\n",
       "   'flaeche': 124.8528654264,\n",
       "   'ausrichtung': -180,\n",
       "   'finanzertrag': 2155.5,\n",
       "   'stromertrag': 21555,\n",
       "   'monats_ertrag': [8.028816227,\n",
       "    12.7730107068,\n",
       "    22.568388263,\n",
       "    26.8166147557,\n",
       "    24.4723232834,\n",
       "    21.8203692433,\n",
       "    17.9029482848,\n",
       "    15.9307518188,\n",
       "    6.3776545757,\n",
       "    3.0270840078,\n",
       "    2.0770820578,\n",
       "    3.0189235522],\n",
       "   'gs_serie_start': '2022-10-01T00:00:00',\n",
       "   'klasse_text': 'Gut##Bonne##Buona##Good##Gut',\n",
       "   'df_nummer': 1,\n",
       "   'neigung': 0,\n",
       "   'label': 16745794}},\n",
       " {'type': 'Feature',\n",
       "  'featureId': 16745798,\n",
       "  'bbox': [2745661.8, 1254117.1, 2745696.4, 1254140.8],\n",
       "  'layerBodId': 'ch.bfe.solarenergie-eignung-daecher',\n",
       "  'layerName': 'Solar energy: suitability of roofs',\n",
       "  'id': 16745798,\n",
       "  'geometry': {'type': 'MultiPolygon',\n",
       "   'coordinates': [[[[2745693.9, 1254130.9],\n",
       "      [2745671.7, 1254117.1],\n",
       "      [2745661.8, 1254119.4],\n",
       "      [2745696.4, 1254140.8],\n",
       "      [2745693.9, 1254130.9]]]]},\n",
       "  'properties': {'monate': [10, 9, 8, 7, 6, 5, 4, 3, 2, 1, 12, 11],\n",
       "   'building_id': 527069,\n",
       "   'a_param': [0.2906374447,\n",
       "    0.611679594,\n",
       "    0.7083464405,\n",
       "    0.7987807161,\n",
       "    0.7741414084,\n",
       "    0.7471578003,\n",
       "    0.6675143136,\n",
       "    0.5009496253,\n",
       "    0.2478713579,\n",
       "    -0.0245813054,\n",
       "    -0.0604781153,\n",
       "    0.0667746012],\n",
       "   'b_param': [0.7131205661,\n",
       "    0.8232165751,\n",
       "    0.7035129153,\n",
       "    0.9269735806,\n",
       "    0.8109882235,\n",
       "    0.839912098,\n",
       "    0.8305562297,\n",
       "    0.8556729308,\n",
       "    0.8443842721,\n",
       "    0.7968375558,\n",
       "    0.7635561032,\n",
       "    0.8234379675],\n",
       "   'c_param': [6.3315561626,\n",
       "    -0.5449509976,\n",
       "    11.8673678461,\n",
       "    -2.8281753894,\n",
       "    9.8337065283,\n",
       "    4.8559245077,\n",
       "    2.5344731962,\n",
       "    -0.3054260927,\n",
       "    -0.34722585,\n",
       "    1.26600546,\n",
       "    1.2065962973,\n",
       "    0.4976567583],\n",
       "   'heizgradtage': [240.0,\n",
       "    91.0,\n",
       "    12.0,\n",
       "    11.0,\n",
       "    47.0,\n",
       "    150.0,\n",
       "    275.0,\n",
       "    483.0,\n",
       "    553.0,\n",
       "    612.0,\n",
       "    591.0,\n",
       "    448.0],\n",
       "   'bedarf_heizung': 403982,\n",
       "   'bedarf_warmwasser': 19101,\n",
       "   'datum_aenderung': '2020-12-04T15:22:24',\n",
       "   'datum_erstellung': '2020-12-04T15:22:24',\n",
       "   'dg_heizung': 5,\n",
       "   'dg_waermebedarf': 6,\n",
       "   'duschgaenge': 57,\n",
       "   'flaeche_kollektoren': 85.3199990458,\n",
       "   'gstrahlung': 234754,\n",
       "   'mstrahlung': 882,\n",
       "   'sb_datum_aenderung': '2015-06-30T14:56:07',\n",
       "   'sb_datum_erstellung': '2015-06-29T00:00:00',\n",
       "   'sb_objektart': 1,\n",
       "   'volumen_speicher': 5700,\n",
       "   'waermeertrag': 23975,\n",
       "   'klasse': 2,\n",
       "   'flaeche': 266.160954005,\n",
       "   'ausrichtung': 148,\n",
       "   'finanzertrag': 3756.1,\n",
       "   'stromertrag': 37561,\n",
       "   'monats_ertrag': [5.2249692,\n",
       "    9.4916370801,\n",
       "    17.9287886547,\n",
       "    22.9709572342,\n",
       "    20.8676361884,\n",
       "    18.407679575,\n",
       "    14.0307639195,\n",
       "    10.7339894351,\n",
       "    3.8287469381,\n",
       "    2.0135396413,\n",
       "    1.4796200382,\n",
       "    2.1124241996],\n",
       "   'gs_serie_start': '2022-10-01T00:00:00',\n",
       "   'klasse_text': 'Mittel##Moyenne##Media##Mean##Mittel',\n",
       "   'df_nummer': 5,\n",
       "   'neigung': 26,\n",
       "   'label': 16745798}}]"
      ]
     },
     "execution_count": 25,
     "metadata": {},
     "output_type": "execute_result"
    }
   ],
   "source": [
    "# https://github.com/ThesisRocker/Data2DollarFS22/blob/0f7344650e6c6c43bc4057502493ea4afbce64f3/06_Abgabe%20Gruppenarbeit/Gruppe%201/sonnendach/script_solar_2.py\n",
    "\n",
    "def get_geo_admin_data(address):\n",
    "    addr_easting, addr_northing = get_easting_northing_lv95(address)\n",
    "\n",
    "    # Uses the swiss coordinate system LV95\n",
    "    url = f\"https://api3.geo.admin.ch/rest/services/all/MapServer/identify?geometry={addr_easting},{addr_northing}&geometryFormat=geojson&geometryType=esriGeometryPoint&imageDisplay=1680,388,96&lang=en&layers=all:ch.bfe.solarenergie-eignung-daecher&limit=10&mapExtent=2745356.382965297,1254042.6972188372,2746005.609812927,1254192.6377050756&returnGeometry=true&sr=2056&tolerance=10\"\n",
    "\n",
    "    # Make the request to the API using requests library\n",
    "    result_building = requests.get(url)\n",
    "\n",
    "    # Transform result into json format\n",
    "    result_building_json = result_building.json()\n",
    "\n",
    "    return result_building_json[\"results\"]\n",
    "\n",
    "\n",
    "get_geo_admin_data(\"St. Leonhard-Strasse 45, St. Gallen\")"
   ]
  },
  {
   "cell_type": "code",
   "execution_count": 27,
   "metadata": {},
   "outputs": [
    {
     "data": {
      "text/plain": [
       "['https://www.uvek-gis.admin.ch/BFE/sonnendach/?featureId=16745794&lang=de',\n",
       " 'https://www.uvek-gis.admin.ch/BFE/sonnendach/?featureId=16745798&lang=de']"
      ]
     },
     "execution_count": 27,
     "metadata": {},
     "output_type": "execute_result"
    }
   ],
   "source": [
    "def get_links_to_sonnendach(data):\n",
    "    links = []\n",
    "\n",
    "    for result in data:\n",
    "        id = result[\"id\"]\n",
    "        links.append(f\"https://www.uvek-gis.admin.ch/BFE/sonnendach/?featureId={id}&lang=de\")\n",
    "\n",
    "    return links\n",
    "\n",
    "get_links_to_sonnendach(get_geo_admin_data(\"St. Leonhard-Strasse 45, St. Gallen\"))"
   ]
  },
  {
   "cell_type": "markdown",
   "metadata": {},
   "source": [
    "https://map.geo.admin.ch/?lang=de&topic=energie&bgLayer=ch.swisstopo.swissimage&catalogNodes=2419,2420,2427,2480,2429,2431,2434,2436,2767,2441,3206&layers=ch.swisstopo.amtliches-strassenverzeichnis,ch.bfe.solarenergie-eignung-daecher&zoom=12&X=254130&Y=745681&layers_opacity=0.85,0.65\n",
    "\n",
    "\n"
   ]
  },
  {
   "cell_type": "code",
   "execution_count": 37,
   "metadata": {},
   "outputs": [
    {
     "name": "stdout",
     "output_type": "stream",
     "text": [
      "2745681.0 1254130.25\n",
      "https://map.geo.admin.ch/embed.html?lang=de&topic=energie&bgLayer=ch.swisstopo.swissimage&catalogNodes=2419,2420,2427,2480,2429,2431,2434,2436,2767,2441,3206&layers=ch.swisstopo.amtliches-strassenverzeichnis,ch.bfe.solarenergie-eignung-daecher&zoom=12&X=254130&Y=745681&layers_opacity=0.85,0.65\n"
     ]
    }
   ],
   "source": [
    "def get_iframe_url(address):\n",
    "    addr_easting, addr_northing = get_easting_northing_lv95(address)\n",
    "\n",
    "    print(addr_easting, addr_northing)\n",
    "\n",
    "    #url = f\"<iframe src='https://map.geo.admin.ch/embed.html?lang=de&topic=energie&bgLayer=ch.swisstopo.swissimage&catalogNodes=2419,2420,2427,2480,2429,2431,2434,2436,2767,2441,3206&layers=ch.swisstopo.amtliches-strassenverzeichnis,ch.bfe.solarenergie-eignung-daecher&zoom=12&X=254130&Y=745681&layers_opacity=0.85,0.65' width='400' height='300' frameborder='0' style='border:0' allow='geolocation'></iframe>\"\n",
    "    url = f\"https://map.geo.admin.ch/embed.html?lang=de&topic=energie&bgLayer=ch.swisstopo.swissimage&catalogNodes=2419,2420,2427,2480,2429,2431,2434,2436,2767,2441,3206&layers=ch.swisstopo.amtliches-strassenverzeichnis,ch.bfe.solarenergie-eignung-daecher&zoom=12&X={addr_northing}&Y={addr_easting}&layers_opacity=0.85,0.65\"\n",
    "    return url\n",
    "    print(url)\n",
    "    frame = f\"<iframe src='{url}' width='400' height='300' frameborder='0' style='border:0' allow='geolocation'></iframe>\"\n",
    "\n",
    "get_iframe(\"St. Leonhard-Strasse 45, St. Gallen\")"
   ]
  },
  {
   "cell_type": "code",
   "execution_count": 41,
   "metadata": {},
   "outputs": [
    {
     "name": "stdout",
     "output_type": "stream",
     "text": [
      "2745681.0 1254130.25\n"
     ]
    },
    {
     "data": {
      "text/html": [
       "\n",
       "        <iframe\n",
       "            width=\"400\"\n",
       "            height=\"300\"\n",
       "            src=\"https://map.geo.admin.ch/embed.html?lang=de&topic=energie&bgLayer=ch.swisstopo.swissimage&catalogNodes=2419,2420,2427,2480,2429,2431,2434,2436,2767,2441,3206&layers=ch.swisstopo.amtliches-strassenverzeichnis,ch.bfe.solarenergie-eignung-daecher&zoom=12&X=1254130.25&Y=2745681.0&layers_opacity=0.85,0.65\"\n",
       "            frameborder=\"0\"\n",
       "            allowfullscreen\n",
       "            \n",
       "        ></iframe>\n",
       "        "
      ],
      "text/plain": [
       "<IPython.lib.display.IFrame at 0x1046ab430>"
      ]
     },
     "execution_count": 41,
     "metadata": {},
     "output_type": "execute_result"
    }
   ],
   "source": [
    "from IPython.display import IFrame\n",
    "IFrame(get_iframe_url(\"St. Leonhard-Strasse 45, St. Gallen\"), width=400, height=300)"
   ]
  },
  {
   "cell_type": "markdown",
   "metadata": {},
   "source": [
    "https://www.sg.ch/umwelt-natur/energie/Energiegesetz.html\n",
    "\n"
   ]
  }
 ],
 "metadata": {
  "kernelspec": {
   "display_name": "Python 3.10.6 ('jupyterlab')",
   "language": "python",
   "name": "python3"
  },
  "language_info": {
   "codemirror_mode": {
    "name": "ipython",
    "version": 3
   },
   "file_extension": ".py",
   "mimetype": "text/x-python",
   "name": "python",
   "nbconvert_exporter": "python",
   "pygments_lexer": "ipython3",
   "version": "3.10.6"
  },
  "orig_nbformat": 4,
  "vscode": {
   "interpreter": {
    "hash": "c8d831be3a9fe87043bd627c454c9f5d764486d697bf6dd50e225044314e23b0"
   }
  }
 },
 "nbformat": 4,
 "nbformat_minor": 2
}
