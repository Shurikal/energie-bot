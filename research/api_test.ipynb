{
 "cells": [
  {
   "cell_type": "code",
   "execution_count": 1,
   "metadata": {},
   "outputs": [],
   "source": [
    "# import requests\n",
    "import requests\n",
    "import json"
   ]
  },
  {
   "cell_type": "code",
   "execution_count": 12,
   "metadata": {},
   "outputs": [
    {
     "data": {
      "text/plain": [
       "('47.4217508', '9.369448')"
      ]
     },
     "execution_count": 12,
     "metadata": {},
     "output_type": "execute_result"
    }
   ],
   "source": [
    "# function to lookup lat and lon from address\n",
    "\n",
    "def get_long_lat(address):\n",
    "    url = f\"https://nominatim.openstreetmap.org/search?q={address}&format=json\"\n",
    "    response = requests.get(url)\n",
    "    data = response.json()\n",
    "    return data[0][\"lat\"], data[0][\"lon\"]\n",
    "\n",
    "get_long_lat(\"St. Leonhard-Strasse 45, St. Gallen\")"
   ]
  },
  {
   "cell_type": "code",
   "execution_count": 14,
   "metadata": {},
   "outputs": [
    {
     "data": {
      "text/plain": [
       "{'nhits': 1,\n",
       " 'parameters': {'dataset': 'warmeversorgung',\n",
       "  'rows': 10,\n",
       "  'start': 0,\n",
       "  'facet': ['waermevers'],\n",
       "  'format': 'json',\n",
       "  'geofilter.distance': ['47.4217508,9.369448,1'],\n",
       "  'timezone': 'UTC'},\n",
       " 'records': [{'datasetid': 'warmeversorgung',\n",
       "   'recordid': '41a0060d5f24a87f0c0f390b4e363916bd084a21',\n",
       "   'fields': {'geo_shape': {'coordinates': [[[9.369402092347727,\n",
       "        47.42141803157732],\n",
       "       [9.36880080458217, 47.421178234079115],\n",
       "       [9.36845445807961, 47.42153135919113],\n",
       "       [9.369074349371125, 47.421789138301264],\n",
       "       [9.369639976357611, 47.42203562120369],\n",
       "       [9.369902089204528, 47.42170847062191],\n",
       "       [9.369460130185418, 47.421532842160765],\n",
       "       [9.369402092347727, 47.42141803157732]]],\n",
       "     'type': 'Polygon'},\n",
       "    'waermevers': 'Fernwärme Ergänzungsgebiet',\n",
       "    'geo_point_2d': [47.42160099351865, 9.369180665597083],\n",
       "    'dist': '26.117715156181355'},\n",
       "   'geometry': {'type': 'Point',\n",
       "    'coordinates': [9.369180665597083, 47.42160099351865]},\n",
       "   'record_timestamp': '2022-11-12T05:30:09.726Z'}],\n",
       " 'facet_groups': [{'name': 'waermevers',\n",
       "   'facets': [{'name': 'Fernwärme Ergänzungsgebiet',\n",
       "     'count': 1,\n",
       "     'state': 'displayed',\n",
       "     'path': 'Fernwärme Ergänzungsgebiet'}]}]}"
      ]
     },
     "execution_count": 14,
     "metadata": {},
     "output_type": "execute_result"
    }
   ],
   "source": [
    "# function to get heating info from long and lat\n",
    "\n",
    "def get_heating_info(lat, lon, dist):\n",
    "    url = f\"https://daten.stadt.sg.ch/api/records/1.0/search/?dataset=warmeversorgung&q=&facet=waermevers&geofilter.distance={lat}%2C{lon}%2C{dist}\"\n",
    "    response = requests.get(url)\n",
    "    data = response.json()\n",
    "    return data\n",
    "\n",
    "# function to get heating info from address\n",
    "\n",
    "def get_heating_info_from_address(address, dist):\n",
    "    lat, lon = get_long_lat(address)\n",
    "    return get_heating_info(lat, lon, dist)\n",
    "\n",
    "get_heating_info_from_address(\"St. Leonhard-Strasse 45, St. Gallen\", 1)"
   ]
  },
  {
   "cell_type": "code",
   "execution_count": null,
   "metadata": {},
   "outputs": [],
   "source": []
  }
 ],
 "metadata": {
  "kernelspec": {
   "display_name": "Python 3.10.6 ('jupyterlab')",
   "language": "python",
   "name": "python3"
  },
  "language_info": {
   "codemirror_mode": {
    "name": "ipython",
    "version": 3
   },
   "file_extension": ".py",
   "mimetype": "text/x-python",
   "name": "python",
   "nbconvert_exporter": "python",
   "pygments_lexer": "ipython3",
   "version": "3.10.6"
  },
  "orig_nbformat": 4,
  "vscode": {
   "interpreter": {
    "hash": "c8d831be3a9fe87043bd627c454c9f5d764486d697bf6dd50e225044314e23b0"
   }
  }
 },
 "nbformat": 4,
 "nbformat_minor": 2
}
