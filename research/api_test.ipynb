{
 "cells": [
  {
   "cell_type": "code",
   "execution_count": 17,
   "metadata": {},
   "outputs": [],
   "source": [
    "# import requests\n",
    "import requests\n",
    "import json"
   ]
  },
  {
   "cell_type": "code",
   "execution_count": 18,
   "metadata": {},
   "outputs": [
    {
     "data": {
      "text/plain": [
       "(47.42184829711914, 9.369429588317871)"
      ]
     },
     "execution_count": 18,
     "metadata": {},
     "output_type": "execute_result"
    }
   ],
   "source": [
    "# geo.admin lookup\n",
    "\n",
    "def get_lat_lon_wgs84(address):\n",
    "    url = f\"https://api3.geo.admin.ch/rest/services/api/SearchServer?searchText={address}&type=locations&origins=address\"\n",
    "    response = requests.get(url)\n",
    "    data = response.json()\n",
    "\n",
    "    return data[\"results\"][0][\"attrs\"][\"lat\"], data[\"results\"][0][\"attrs\"][\"lon\"]\n",
    "\n",
    "get_lat_lon_wgs84(\"St. Leonhard-Strasse 45, St. Gallen\")"
   ]
  },
  {
   "cell_type": "code",
   "execution_count": 24,
   "metadata": {},
   "outputs": [
    {
     "data": {
      "text/plain": [
       "(2745681.0, 1254130.25)"
      ]
     },
     "execution_count": 24,
     "metadata": {},
     "output_type": "execute_result"
    }
   ],
   "source": [
    "def get_easting_northing_lv95(address):\n",
    "\n",
    "    url = f\"https://api3.geo.admin.ch//rest/services/api/SearchServer?lang=de&searchText={address}&type=locations&sr=2056\"\n",
    "    response = requests.get(url)\n",
    "    data = response.json()\n",
    "\n",
    "    return data[\"results\"][0][\"attrs\"][\"y\"], data[\"results\"][0][\"attrs\"][\"x\"]\n",
    "\n",
    "get_easting_northing_lv95(\"St. Leonhard-Strasse 45, St. Gallen\")"
   ]
  },
  {
   "cell_type": "code",
   "execution_count": 25,
   "metadata": {},
   "outputs": [
    {
     "data": {
      "text/plain": [
       "{'nhits': 1,\n",
       " 'parameters': {'dataset': 'warmeversorgung',\n",
       "  'rows': 10,\n",
       "  'start': 0,\n",
       "  'facet': ['waermevers'],\n",
       "  'format': 'json',\n",
       "  'geofilter.distance': ['47.42184829711914,9.369429588317871,1'],\n",
       "  'timezone': 'UTC'},\n",
       " 'records': [{'datasetid': 'warmeversorgung',\n",
       "   'recordid': '41a0060d5f24a87f0c0f390b4e363916bd084a21',\n",
       "   'fields': {'geo_shape': {'coordinates': [[[9.369402092347727,\n",
       "        47.42141803157732],\n",
       "       [9.36880080458217, 47.421178234079115],\n",
       "       [9.36845445807961, 47.42153135919113],\n",
       "       [9.369074349371125, 47.421789138301264],\n",
       "       [9.369639976357611, 47.42203562120369],\n",
       "       [9.369902089204528, 47.42170847062191],\n",
       "       [9.369460130185418, 47.421532842160765],\n",
       "       [9.369402092347727, 47.42141803157732]]],\n",
       "     'type': 'Polygon'},\n",
       "    'waermevers': 'Fernwärme Ergänzungsgebiet',\n",
       "    'geo_point_2d': [47.42160099351865, 9.369180665597083],\n",
       "    'dist': '33.27289013497016'},\n",
       "   'geometry': {'type': 'Point',\n",
       "    'coordinates': [9.369180665597083, 47.42160099351865]},\n",
       "   'record_timestamp': '2022-11-12T05:30:09.726Z'}],\n",
       " 'facet_groups': [{'name': 'waermevers',\n",
       "   'facets': [{'name': 'Fernwärme Ergänzungsgebiet',\n",
       "     'count': 1,\n",
       "     'state': 'displayed',\n",
       "     'path': 'Fernwärme Ergänzungsgebiet'}]}]}"
      ]
     },
     "execution_count": 25,
     "metadata": {},
     "output_type": "execute_result"
    }
   ],
   "source": [
    "# function to get heating info from long and lat\n",
    "\n",
    "def get_heating_info(lat, lon, dist):\n",
    "    url = f\"https://daten.stadt.sg.ch/api/records/1.0/search/?dataset=warmeversorgung&q=&facet=waermevers&geofilter.distance={lat}%2C{lon}%2C{dist}\"\n",
    "    response = requests.get(url)\n",
    "    data = response.json()\n",
    "    return data\n",
    "\n",
    "# function to get heating info from address\n",
    "\n",
    "def get_heating_info_from_address(address, dist):\n",
    "    lat, lon = get_lat_lon_wgs84(address)\n",
    "    return get_heating_info(lat, lon, dist)\n",
    "\n",
    "get_heating_info_from_address(\"St. Leonhard-Strasse 45, St. Gallen\", 1)"
   ]
  },
  {
   "cell_type": "code",
   "execution_count": 26,
   "metadata": {},
   "outputs": [
    {
     "data": {
      "text/plain": [
       "'Fernwärme Ergänzungsgebiet'"
      ]
     },
     "execution_count": 26,
     "metadata": {},
     "output_type": "execute_result"
    }
   ],
   "source": [
    "# function to get waermevers from address\n",
    "\n",
    "def get_waermevers_from_address(address, dist):\n",
    "    data = get_heating_info_from_address(address, dist)\n",
    "    return data[\"records\"][0][\"fields\"][\"waermevers\"]\n",
    "\n",
    "get_waermevers_from_address(\"St. Leonhard-Strasse 45, St. Gallen\", 1)"
   ]
  },
  {
   "cell_type": "markdown",
   "metadata": {},
   "source": [
    "# data from geo.admin.ch\n",
    "\n",
    "ch.bfe.solarenergie-eignung-daecher\n",
    "ch.bfe.solarenergie-eignung-fassaden\n",
    "\n",
    "# get data from geo.admin.ch\n",
    "\n",
    "https://map.geo.admin.ch/?layers=ch.bfe.solarenergie-eignung-daecher&lang=en&topic=ech&bgLayer=ch.swisstopo.pixelkarte-farbe&E=2745681.00&N=1254117.67&zoom=11.371666666666666\n"
   ]
  },
  {
   "cell_type": "code",
   "execution_count": 47,
   "metadata": {},
   "outputs": [
    {
     "name": "stdout",
     "output_type": "stream",
     "text": [
      "{'type': 'Feature', 'featureId': 16745794, 'bbox': [2745660.3, 1254105.7, 2745705.5, 1254142.5], 'layerBodId': 'ch.bfe.solarenergie-eignung-daecher', 'layerName': 'Solar energy: suitability of roofs', 'id': 16745794, 'geometry': {'type': 'MultiPolygon', 'coordinates': [[[[2745702.8, 1254126.4], [2745671.5, 1254107.1], [2745669.2, 1254105.7], [2745660.3, 1254120.1], [2745696.6, 1254142.5], [2745705.5, 1254128.1], [2745702.8, 1254126.4]], [[2745661.8, 1254119.4], [2745669.5, 1254106.9], [2745704.1, 1254128.3], [2745696.4, 1254140.8], [2745661.8, 1254119.4]]]]}, 'properties': {'monate': [10, 9, 8, 7, 6, 5, 4, 3, 2, 1, 12, 11], 'building_id': 527069, 'a_param': [0.7768488835, 0.9652010208, 0.9679495756, 0.980280681, 0.9901538902, 0.9768872537, 0.9585564666, 0.9063184743, 0.7307145044, 0.3759406691, 0.3489994673, 0.5538456654], 'b_param': [0.8689646264, 0.9691674958, 1.0244670528, 0.9635810253, 0.9357137619, 0.9188822209, 0.9934626264, 0.9902676501, 0.9607837788, 0.8494011796, 0.8318482567, 0.9443145278], 'c_param': [2.347691756, -4.0768496177, -6.6601844688, -2.8384668483, -0.9366603131, 0.6607162554, -4.5326085717, -3.8339237591, -2.7862482184, 0.8366027391, 0.3054124468, -1.7280271213], 'heizgradtage': [240.0, 91.0, 12.0, 11.0, 47.0, 150.0, 275.0, 483.0, 553.0, 612.0, 591.0, 448.0], 'bedarf_heizung': 403982, 'bedarf_warmwasser': 19101, 'datum_aenderung': '2020-12-04T15:22:19', 'datum_erstellung': '2020-12-04T15:22:19', 'dg_heizung': 5, 'dg_waermebedarf': 6, 'duschgaenge': 60, 'flaeche_kollektoren': 70.4251499939, 'gstrahlung': 134716, 'mstrahlung': 1079, 'sb_datum_aenderung': '2015-06-30T14:56:07', 'sb_datum_erstellung': '2015-06-29T00:00:00', 'sb_objektart': 1, 'volumen_speicher': 4800, 'waermeertrag': 25540, 'klasse': 3, 'flaeche': 124.8528654264, 'ausrichtung': -180, 'finanzertrag': 2155.5, 'stromertrag': 21555, 'monats_ertrag': [8.028816227, 12.7730107068, 22.568388263, 26.8166147557, 24.4723232834, 21.8203692433, 17.9029482848, 15.9307518188, 6.3776545757, 3.0270840078, 2.0770820578, 3.0189235522], 'gs_serie_start': '2022-10-01T00:00:00', 'klasse_text': 'Gut##Bonne##Buona##Good##Gut', 'df_nummer': 1, 'neigung': 0, 'label': 16745794}}\n",
      "{'type': 'Feature', 'featureId': 16745798, 'bbox': [2745661.8, 1254117.1, 2745696.4, 1254140.8], 'layerBodId': 'ch.bfe.solarenergie-eignung-daecher', 'layerName': 'Solar energy: suitability of roofs', 'id': 16745798, 'geometry': {'type': 'MultiPolygon', 'coordinates': [[[[2745693.9, 1254130.9], [2745671.7, 1254117.1], [2745661.8, 1254119.4], [2745696.4, 1254140.8], [2745693.9, 1254130.9]]]]}, 'properties': {'monate': [10, 9, 8, 7, 6, 5, 4, 3, 2, 1, 12, 11], 'building_id': 527069, 'a_param': [0.2906374447, 0.611679594, 0.7083464405, 0.7987807161, 0.7741414084, 0.7471578003, 0.6675143136, 0.5009496253, 0.2478713579, -0.0245813054, -0.0604781153, 0.0667746012], 'b_param': [0.7131205661, 0.8232165751, 0.7035129153, 0.9269735806, 0.8109882235, 0.839912098, 0.8305562297, 0.8556729308, 0.8443842721, 0.7968375558, 0.7635561032, 0.8234379675], 'c_param': [6.3315561626, -0.5449509976, 11.8673678461, -2.8281753894, 9.8337065283, 4.8559245077, 2.5344731962, -0.3054260927, -0.34722585, 1.26600546, 1.2065962973, 0.4976567583], 'heizgradtage': [240.0, 91.0, 12.0, 11.0, 47.0, 150.0, 275.0, 483.0, 553.0, 612.0, 591.0, 448.0], 'bedarf_heizung': 403982, 'bedarf_warmwasser': 19101, 'datum_aenderung': '2020-12-04T15:22:24', 'datum_erstellung': '2020-12-04T15:22:24', 'dg_heizung': 5, 'dg_waermebedarf': 6, 'duschgaenge': 57, 'flaeche_kollektoren': 85.3199990458, 'gstrahlung': 234754, 'mstrahlung': 882, 'sb_datum_aenderung': '2015-06-30T14:56:07', 'sb_datum_erstellung': '2015-06-29T00:00:00', 'sb_objektart': 1, 'volumen_speicher': 5700, 'waermeertrag': 23975, 'klasse': 2, 'flaeche': 266.160954005, 'ausrichtung': 148, 'finanzertrag': 3756.1, 'stromertrag': 37561, 'monats_ertrag': [5.2249692, 9.4916370801, 17.9287886547, 22.9709572342, 20.8676361884, 18.407679575, 14.0307639195, 10.7339894351, 3.8287469381, 2.0135396413, 1.4796200382, 2.1124241996], 'gs_serie_start': '2022-10-01T00:00:00', 'klasse_text': 'Mittel##Moyenne##Media##Mean##Mittel', 'df_nummer': 5, 'neigung': 26, 'label': 16745798}}\n"
     ]
    }
   ],
   "source": [
    "# https://github.com/ThesisRocker/Data2DollarFS22/blob/0f7344650e6c6c43bc4057502493ea4afbce64f3/06_Abgabe%20Gruppenarbeit/Gruppe%201/sonnendach/script_solar_2.py\n",
    "\n",
    "def get_geo_admin_data(address):\n",
    "    addr_easting, addr_northing = get_easting_northing_lv95(address)\n",
    "\n",
    "    # Build the request similar to script_solar only with new coordinates from previous request\n",
    "    # Uses the swiss coordinate system LV95\n",
    "    API_building_ID = ('https://api3.geo.admin.ch//rest/services/api/MapServer/identify'\n",
    "                       '?geometryType=esriGeometryPoint'#&returnGeometry=true'\n",
    "                       '&layers=all:ch.bfe.solarenergie-eignung-daecher'\n",
    "                       '&geometry=' + str(addr_easting) + ',' + str(addr_northing) +\n",
    "                       '&tolerance=0&order=distance&lang=de&sr=2056')\n",
    "\n",
    "\n",
    "    url = f\"https://api3.geo.admin.ch/rest/services/all/MapServer/identify?geometry={str(addr_easting)},{str(addr_northing)}&geometryFormat=geojson&geometryType=esriGeometryPoint&imageDisplay=1680,388,96&lang=en&layers=all:ch.bfe.solarenergie-eignung-daecher&limit=10&mapExtent=2745356.382965297,1254042.6972188372,2746005.609812927,1254192.6377050756&returnGeometry=true&sr=2056&tolerance=10\"\n",
    "\n",
    "    # Make the request to the API using requests library\n",
    "    result_building = requests.get(url)\n",
    "\n",
    "    # Transform result into json format\n",
    "    result_building_json = result_building.json()\n",
    "\n",
    "    print(result_building_json[\"results\"][0])\n",
    "    print(result_building_json[\"results\"][1])\n",
    "\n",
    "get_geo_admin_data(\"St. Leonhard-Strasse 45, St. Gallen\")"
   ]
  },
  {
   "cell_type": "code",
   "execution_count": 49,
   "metadata": {},
   "outputs": [
    {
     "data": {
      "text/plain": [
       "'https://www.uvek-gis.admin.ch/BFE/sonnendach/?featureId=16745794&lang=de'"
      ]
     },
     "execution_count": 49,
     "metadata": {},
     "output_type": "execute_result"
    }
   ],
   "source": [
    "def get_link_to_sonnendach(id):\n",
    "    return f\"https://www.uvek-gis.admin.ch/BFE/sonnendach/?featureId={id}&lang=de\"\n",
    "\n",
    "get_link_to_sonnendach(16745794)"
   ]
  },
  {
   "cell_type": "code",
   "execution_count": null,
   "metadata": {},
   "outputs": [],
   "source": []
  }
 ],
 "metadata": {
  "kernelspec": {
   "display_name": "Python 3.10.6 ('jupyterlab')",
   "language": "python",
   "name": "python3"
  },
  "language_info": {
   "codemirror_mode": {
    "name": "ipython",
    "version": 3
   },
   "file_extension": ".py",
   "mimetype": "text/x-python",
   "name": "python",
   "nbconvert_exporter": "python",
   "pygments_lexer": "ipython3",
   "version": "3.10.6"
  },
  "orig_nbformat": 4,
  "vscode": {
   "interpreter": {
    "hash": "c8d831be3a9fe87043bd627c454c9f5d764486d697bf6dd50e225044314e23b0"
   }
  }
 },
 "nbformat": 4,
 "nbformat_minor": 2
}
