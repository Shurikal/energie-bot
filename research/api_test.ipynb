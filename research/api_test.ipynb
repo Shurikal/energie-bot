{
 "cells": [
  {
   "cell_type": "code",
   "execution_count": 3,
   "metadata": {},
   "outputs": [],
   "source": [
    "# import requests\n",
    "import requests\n",
    "import json"
   ]
  },
  {
   "cell_type": "code",
   "execution_count": 4,
   "metadata": {},
   "outputs": [
    {
     "data": {
      "text/plain": [
       "(47.42184829711914, 9.369429588317871)"
      ]
     },
     "execution_count": 4,
     "metadata": {},
     "output_type": "execute_result"
    }
   ],
   "source": [
    "# geo.admin lookup\n",
    "# needs exact address\n",
    "\n",
    "def get_lat_lon_wgs84(address):\n",
    "    url = f\"https://api3.geo.admin.ch/rest/services/api/SearchServer?searchText={address}&type=locations&origins=address\"\n",
    "    response = requests.get(url)\n",
    "    data = response.json()\n",
    "\n",
    "    return data[\"results\"][0][\"attrs\"][\"lat\"], data[\"results\"][0][\"attrs\"][\"lon\"]\n",
    "\n",
    "get_lat_lon_wgs84(\"St. Leonhard-Strasse 45, St. Gallen\")"
   ]
  },
  {
   "cell_type": "code",
   "execution_count": 5,
   "metadata": {},
   "outputs": [
    {
     "name": "stdout",
     "output_type": "stream",
     "text": [
      "[{'place_id': 95207181, 'licence': 'Data © OpenStreetMap contributors, ODbL 1.0. https://osm.org/copyright', 'osm_type': 'node', 'osm_id': 9227670034, 'boundingbox': ['47.4217008', '47.4218008', '9.369398', '9.369498'], 'lat': '47.4217508', 'lon': '9.369448', 'display_name': 'Leo&Co Coworking St. Gallen, 45, St. Leonhard-Strasse, Rosenberg, St. Gallen, Wahlkreis St. Gallen, Sankt Gallen, 9000, Schweiz/Suisse/Svizzera/Svizra', 'class': 'office', 'type': 'coworking', 'importance': 0.41009999999999996}, {'place_id': 44231395, 'licence': 'Data © OpenStreetMap contributors, ODbL 1.0. https://osm.org/copyright', 'osm_type': 'node', 'osm_id': 3653216863, 'boundingbox': ['47.4217836', '47.4218836', '9.369338', '9.369438'], 'lat': '47.4218336', 'lon': '9.369388', 'display_name': '45, St. Leonhard-Strasse, Rosenberg, St. Gallen, Wahlkreis St. Gallen, Sankt Gallen, 9000, Schweiz/Suisse/Svizzera/Svizra', 'class': 'place', 'type': 'house', 'importance': 0.41009999999999996}]\n"
     ]
    },
    {
     "data": {
      "text/plain": [
       "('47.4217508', '9.369448')"
      ]
     },
     "execution_count": 5,
     "metadata": {},
     "output_type": "execute_result"
    }
   ],
   "source": [
    "# get lat lon openstreetmap\n",
    "def get_lat_lon(address):\n",
    "    url = f\"https://nominatim.openstreetmap.org/search?q={address}&format=json\"\n",
    "    response = requests.get(url)\n",
    "    data = response.json()\n",
    "\n",
    "    print(data)\n",
    "\n",
    "    return data[0][\"lat\"], data[0][\"lon\"]\n",
    "\n",
    "get_lat_lon(\"St. Leonhardstrasse 45, St. Gallen\")"
   ]
  },
  {
   "cell_type": "code",
   "execution_count": 6,
   "metadata": {},
   "outputs": [
    {
     "data": {
      "text/plain": [
       "(2745681.0, 1254130.25)"
      ]
     },
     "execution_count": 6,
     "metadata": {},
     "output_type": "execute_result"
    }
   ],
   "source": [
    "def get_easting_northing_lv95(address):\n",
    "\n",
    "    url = f\"https://api3.geo.admin.ch//rest/services/api/SearchServer?lang=de&searchText={address}&type=locations&sr=2056\"\n",
    "    response = requests.get(url)\n",
    "    data = response.json()\n",
    "\n",
    "    return data[\"results\"][0][\"attrs\"][\"y\"], data[\"results\"][0][\"attrs\"][\"x\"]\n",
    "\n",
    "get_easting_northing_lv95(\"St. Leonhard-Strasse 45, St. Gallen\")"
   ]
  },
  {
   "cell_type": "code",
   "execution_count": 7,
   "metadata": {},
   "outputs": [
    {
     "data": {
      "text/plain": [
       "{'nhits': 1,\n",
       " 'parameters': {'dataset': 'warmeversorgung',\n",
       "  'rows': 10,\n",
       "  'start': 0,\n",
       "  'facet': ['waermevers'],\n",
       "  'format': 'json',\n",
       "  'geofilter.distance': ['47.41964340209961,9.382232666015625,1'],\n",
       "  'timezone': 'UTC'},\n",
       " 'records': [{'datasetid': 'warmeversorgung',\n",
       "   'recordid': 'd2e9a2f8020d8d6698800869736ac3bb31f93e11',\n",
       "   'fields': {'geo_shape': {'coordinates': [[[9.38289855470966,\n",
       "        47.419466361952956],\n",
       "       [9.382941120936318, 47.419410162001824],\n",
       "       [9.38299121979418, 47.41942554941748],\n",
       "       [9.383048303135295, 47.41944307750419],\n",
       "       [9.383271772575283, 47.41951139107871],\n",
       "       [9.383302981328848, 47.41952095138226],\n",
       "       [9.383952215418173, 47.41970498620696],\n",
       "       [9.384154446548276, 47.41974415485945],\n",
       "       [9.384186992773554, 47.419755482790265],\n",
       "       [9.384220370310745, 47.419765618124075],\n",
       "       [9.384254511604873, 47.419774526010045],\n",
       "       [9.38427317926302, 47.41977897105416],\n",
       "       [9.38429199406562, 47.41978308972999],\n",
       "       [9.384310969260095, 47.41978688181445],\n",
       "       [9.384347086494277, 47.41979218464154],\n",
       "       [9.384383025396877, 47.41979804826685],\n",
       "       [9.384418758487481, 47.41980444616267],\n",
       "       [9.384478831096652, 47.41981705590736],\n",
       "       [9.384553665472165, 47.41983133337814],\n",
       "       [9.384628072374595, 47.419846607656865],\n",
       "       [9.384702025312187, 47.419862879190624],\n",
       "       [9.3847783865888, 47.41988084651646],\n",
       "       [9.38485418990256, 47.419899866828274],\n",
       "       [9.384888847624232, 47.419909116710436],\n",
       "       [9.384892189907106, 47.41989611390283],\n",
       "       [9.38485688536872, 47.41987352354007],\n",
       "       [9.384809652210947, 47.41984046376131],\n",
       "       [9.38487324315709, 47.419719437311166],\n",
       "       [9.384546194526465, 47.41957293374163],\n",
       "       [9.384770524032692, 47.419342371460516],\n",
       "       [9.384788584395697, 47.41935087524615],\n",
       "       [9.384830013434252, 47.41934846809747],\n",
       "       [9.384930569228276, 47.41924471382241],\n",
       "       [9.384815367794749, 47.41919878166411],\n",
       "       [9.384616716757384, 47.419120075566475],\n",
       "       [9.384593073079852, 47.41910895771596],\n",
       "       [9.384570815445304, 47.419096592943596],\n",
       "       [9.384550092535383, 47.419083059718474],\n",
       "       [9.384531026536274, 47.41906843695569],\n",
       "       [9.384514058131309, 47.41905317607646],\n",
       "       [9.384498913823272, 47.419037047768136],\n",
       "       [9.384485716782931, 47.41902015791989],\n",
       "       [9.384474523943187, 47.41900261353643],\n",
       "       [9.384463519402015, 47.41897970383751],\n",
       "       [9.38445600442527, 47.418956159576524],\n",
       "       [9.384452040543943, 47.41893221363703],\n",
       "       [9.384413844531585, 47.418934575213115],\n",
       "       [9.384413058932276, 47.41890873139337],\n",
       "       [9.384416120692984, 47.418882975736416],\n",
       "       [9.384422998939662, 47.41885755167771],\n",
       "       [9.384431102649641, 47.418837730036586],\n",
       "       [9.384441531462508, 47.41881841805271],\n",
       "       [9.384454223411362, 47.418799733728456],\n",
       "       [9.384469077115895, 47.41878180472652],\n",
       "       [9.384485192833962, 47.41876431331238],\n",
       "       [9.384503357980138, 47.41874776804521],\n",
       "       [9.384523457928005, 47.41873229681077],\n",
       "       [9.38454536348939, 47.41871799175229],\n",
       "       [9.384568613204435, 47.41870528349351],\n",
       "       [9.384593288959607, 47.41869387375737],\n",
       "       [9.38461922149737, 47.418683846365354],\n",
       "       [9.38464626706936, 47.41867525771872],\n",
       "       [9.384674228937966, 47.418668165111356],\n",
       "       [9.384732651617485, 47.41865453158484],\n",
       "       [9.385067200575426, 47.41857489742983],\n",
       "       [9.385249606419254, 47.418559562027085],\n",
       "       [9.385642570204135, 47.41852954962047],\n",
       "       [9.385657712474945, 47.41852350948263],\n",
       "       [9.385672605436469, 47.418517176646084],\n",
       "       [9.385687209346441, 47.4185105517806],\n",
       "       [9.38569254567209, 47.41851583300834],\n",
       "       [9.385711916799552, 47.41850726545702],\n",
       "       [9.385772565018446, 47.418493243017636],\n",
       "       [9.385809714207099, 47.41848401600429],\n",
       "       [9.3859923991546, 47.41842342035445],\n",
       "       [9.385998175549739, 47.41842116375448],\n",
       "       [9.386004203554029, 47.418419262789676],\n",
       "       [9.386010469920166, 47.41841771768316],\n",
       "       [9.386016896150926, 47.41841655674852],\n",
       "       [9.386022834770017, 47.4184158358818],\n",
       "       [9.386028837890974, 47.41841542881896],\n",
       "       [9.38603486577176, 47.41841533622976],\n",
       "       [9.386040892575668, 47.418415576543346],\n",
       "       [9.386046864655462, 47.41841613267005],\n",
       "       [9.386142966325576, 47.418426613863254],\n",
       "       [9.386174228895532, 47.41842967672988],\n",
       "       [9.386205423169434, 47.41843304663344],\n",
       "       [9.386236548490023, 47.41843670559134],\n",
       "       [9.386276380185436, 47.418442107144145],\n",
       "       [9.386316128368728, 47.418447762004014],\n",
       "       [9.38635579304044, 47.41845367017087],\n",
       "       [9.386394915894527, 47.41845962344466],\n",
       "       [9.38643389360675, 47.41846595702137],\n",
       "       [9.386472739425248, 47.41847267067775],\n",
       "       [9.386514964391061, 47.418480442974136],\n",
       "       [9.386556993862074, 47.41848866839539],\n",
       "       [9.386598827839222, 47.418497346941734],\n",
       "       [9.38663696137476, 47.41850524214703],\n",
       "       [9.386675301700953, 47.41851263002779],\n",
       "       [9.386713849145929, 47.41851951957514],\n",
       "       [9.386750177876023, 47.41852554682556],\n",
       "       [9.38678666237752, 47.418531121593865],\n",
       "       [9.386823289073094, 47.418536235111894],\n",
       "       [9.387007525408107, 47.41855933677914],\n",
       "       [9.387153284464345, 47.4181501474152],\n",
       "       [9.38668935919053, 47.41754858275254],\n",
       "       [9.38668497472159, 47.416853565432035],\n",
       "       [9.386896957788974, 47.41646114547706],\n",
       "       [9.38682518011075, 47.41629847716311],\n",
       "       [9.386034978049457, 47.41629689860476],\n",
       "       [9.38588795578092, 47.41647814467606],\n",
       "       [9.384070194349956, 47.41665721212536],\n",
       "       [9.38376771790513, 47.41731829447478],\n",
       "       [9.382818753178126, 47.41891283103113],\n",
       "       [9.382123974406499, 47.41890309683212],\n",
       "       [9.381924091862201, 47.41919210929671],\n",
       "       [9.382091719108244, 47.419460663022775],\n",
       "       [9.381343051010495, 47.419416121727],\n",
       "       [9.381003172692308, 47.41945425092458],\n",
       "       [9.380998323060215, 47.41945721144077],\n",
       "       [9.380993854204267, 47.41946043546263],\n",
       "       [9.380989805539361, 47.419463913330794],\n",
       "       [9.38098621549616, 47.4194676084118],\n",
       "       [9.380983096666178, 47.419471502500365],\n",
       "       [9.380980487480088, 47.41947555896298],\n",
       "       [9.38094587334124, 47.419533594809636],\n",
       "       [9.380943261694801, 47.41953613084097],\n",
       "       [9.380940325870615, 47.419538501380494],\n",
       "       [9.380937091379776, 47.4195406790088],\n",
       "       [9.380933584717576, 47.419542663280446],\n",
       "       [9.380929831395237, 47.41954442677608],\n",
       "       [9.380926183975244, 47.4195454597448],\n",
       "       [9.380913876751613, 47.41954893247071],\n",
       "       [9.380890303163484, 47.419556067351955],\n",
       "       [9.380814907638545, 47.419573600908336],\n",
       "       [9.38079301234236, 47.419580230727696],\n",
       "       [9.380775715506669, 47.419591911475],\n",
       "       [9.380766530893823, 47.41960721657282],\n",
       "       [9.38075548339799, 47.41962232805668],\n",
       "       [9.380736048714963, 47.41963209240617],\n",
       "       [9.380715012088139, 47.419640822043874],\n",
       "       [9.38069683642634, 47.41965384908551],\n",
       "       [9.38068440882115, 47.419662380051705],\n",
       "       [9.380603938411234, 47.41967379990953],\n",
       "       [9.38056486546902, 47.419689931155574],\n",
       "       [9.38057572866064, 47.419701741430195],\n",
       "       [9.38054839540644, 47.4197188269831],\n",
       "       [9.38060569827756, 47.41974638408992],\n",
       "       [9.381010334697194, 47.41980564738678],\n",
       "       [9.381122628459366, 47.419822086442274],\n",
       "       [9.38145524699048, 47.419912950217956],\n",
       "       [9.381622463870947, 47.41997560900184],\n",
       "       [9.381926734867635, 47.42010655232089],\n",
       "       [9.381952739495535, 47.420117711979756],\n",
       "       [9.381921149029711, 47.420142723723224],\n",
       "       [9.382124469147625, 47.42023858491624],\n",
       "       [9.382332684321446, 47.42033053075688],\n",
       "       [9.382364076662892, 47.420282670169854],\n",
       "       [9.382625521921845, 47.419883327374464],\n",
       "       [9.382643726350564, 47.419855490679495],\n",
       "       [9.38289855470966, 47.419466361952956]]],\n",
       "     'type': 'Polygon'},\n",
       "    'waermevers': 'Wärmepumpen Erdsonde',\n",
       "    'geo_point_2d': [47.41819035932867, 9.38448484356267],\n",
       "    'dist': '234.133968955166'},\n",
       "   'geometry': {'type': 'Point',\n",
       "    'coordinates': [9.38448484356267, 47.41819035932867]},\n",
       "   'record_timestamp': '2022-11-12T05:30:09.726Z'}],\n",
       " 'facet_groups': [{'name': 'waermevers',\n",
       "   'facets': [{'name': 'Wärmepumpen Erdsonde',\n",
       "     'count': 1,\n",
       "     'state': 'displayed',\n",
       "     'path': 'Wärmepumpen Erdsonde'}]}]}"
      ]
     },
     "execution_count": 7,
     "metadata": {},
     "output_type": "execute_result"
    }
   ],
   "source": [
    "# function to get heating info from long and lat\n",
    "\n",
    "def get_heating_info(lat, lon, dist):\n",
    "    url = f\"https://daten.stadt.sg.ch/api/records/1.0/search/?dataset=warmeversorgung&q=&facet=waermevers&geofilter.distance={lat}%2C{lon}%2C{dist}\"\n",
    "    response = requests.get(url)\n",
    "    data = response.json()\n",
    "    return data\n",
    "\n",
    "# function to get heating info from address\n",
    "\n",
    "def get_heating_info_from_address(address, dist):\n",
    "    lat, lon = get_lat_lon_wgs84(address)\n",
    "    return get_heating_info(lat, lon, dist)\n",
    "\n",
    "#get_heating_info_from_address(\"St. Leonhard-Strasse 45, St. Gallen\", 1)\n",
    "get_heating_info_from_address(\"Möslenstrasse 3, St. Gallen\", 1)"
   ]
  },
  {
   "cell_type": "code",
   "execution_count": 6,
   "metadata": {},
   "outputs": [
    {
     "data": {
      "text/plain": [
       "'Fernwärme Ergänzungsgebiet'"
      ]
     },
     "execution_count": 6,
     "metadata": {},
     "output_type": "execute_result"
    }
   ],
   "source": [
    "# function to get waermevers from address\n",
    "\n",
    "def get_waermevers_from_address(address, dist):\n",
    "    data = get_heating_info_from_address(address, dist)\n",
    "    return data[\"records\"][0][\"fields\"][\"waermevers\"]\n",
    "\n",
    "get_waermevers_from_address(\"St. Leonhard-Strasse 45, St. Gallen\", 1)"
   ]
  },
  {
   "cell_type": "markdown",
   "metadata": {},
   "source": [
    "# data from geo.admin.ch\n",
    "\n",
    "ch.bfe.solarenergie-eignung-daecher\n",
    "ch.bfe.solarenergie-eignung-fassaden\n",
    "\n",
    "# get data from geo.admin.ch\n",
    "\n",
    "https://map.geo.admin.ch/?layers=ch.bfe.solarenergie-eignung-daecher&lang=en&topic=ech&bgLayer=ch.swisstopo.pixelkarte-farbe&E=2745681.00&N=1254117.67&zoom=11.371666666666666\n"
   ]
  },
  {
   "cell_type": "code",
   "execution_count": 25,
   "metadata": {},
   "outputs": [
    {
     "data": {
      "text/plain": [
       "[{'type': 'Feature',\n",
       "  'featureId': 16745794,\n",
       "  'bbox': [2745660.3, 1254105.7, 2745705.5, 1254142.5],\n",
       "  'layerBodId': 'ch.bfe.solarenergie-eignung-daecher',\n",
       "  'layerName': 'Solar energy: suitability of roofs',\n",
       "  'id': 16745794,\n",
       "  'geometry': {'type': 'MultiPolygon',\n",
       "   'coordinates': [[[[2745702.8, 1254126.4],\n",
       "      [2745671.5, 1254107.1],\n",
       "      [2745669.2, 1254105.7],\n",
       "      [2745660.3, 1254120.1],\n",
       "      [2745696.6, 1254142.5],\n",
       "      [2745705.5, 1254128.1],\n",
       "      [2745702.8, 1254126.4]],\n",
       "     [[2745661.8, 1254119.4],\n",
       "      [2745669.5, 1254106.9],\n",
       "      [2745704.1, 1254128.3],\n",
       "      [2745696.4, 1254140.8],\n",
       "      [2745661.8, 1254119.4]]]]},\n",
       "  'properties': {'monate': [10, 9, 8, 7, 6, 5, 4, 3, 2, 1, 12, 11],\n",
       "   'building_id': 527069,\n",
       "   'a_param': [0.7768488835,\n",
       "    0.9652010208,\n",
       "    0.9679495756,\n",
       "    0.980280681,\n",
       "    0.9901538902,\n",
       "    0.9768872537,\n",
       "    0.9585564666,\n",
       "    0.9063184743,\n",
       "    0.7307145044,\n",
       "    0.3759406691,\n",
       "    0.3489994673,\n",
       "    0.5538456654],\n",
       "   'b_param': [0.8689646264,\n",
       "    0.9691674958,\n",
       "    1.0244670528,\n",
       "    0.9635810253,\n",
       "    0.9357137619,\n",
       "    0.9188822209,\n",
       "    0.9934626264,\n",
       "    0.9902676501,\n",
       "    0.9607837788,\n",
       "    0.8494011796,\n",
       "    0.8318482567,\n",
       "    0.9443145278],\n",
       "   'c_param': [2.347691756,\n",
       "    -4.0768496177,\n",
       "    -6.6601844688,\n",
       "    -2.8384668483,\n",
       "    -0.9366603131,\n",
       "    0.6607162554,\n",
       "    -4.5326085717,\n",
       "    -3.8339237591,\n",
       "    -2.7862482184,\n",
       "    0.8366027391,\n",
       "    0.3054124468,\n",
       "    -1.7280271213],\n",
       "   'heizgradtage': [240.0,\n",
       "    91.0,\n",
       "    12.0,\n",
       "    11.0,\n",
       "    47.0,\n",
       "    150.0,\n",
       "    275.0,\n",
       "    483.0,\n",
       "    553.0,\n",
       "    612.0,\n",
       "    591.0,\n",
       "    448.0],\n",
       "   'bedarf_heizung': 403982,\n",
       "   'bedarf_warmwasser': 19101,\n",
       "   'datum_aenderung': '2020-12-04T15:22:19',\n",
       "   'datum_erstellung': '2020-12-04T15:22:19',\n",
       "   'dg_heizung': 5,\n",
       "   'dg_waermebedarf': 6,\n",
       "   'duschgaenge': 60,\n",
       "   'flaeche_kollektoren': 70.4251499939,\n",
       "   'gstrahlung': 134716,\n",
       "   'mstrahlung': 1079,\n",
       "   'sb_datum_aenderung': '2015-06-30T14:56:07',\n",
       "   'sb_datum_erstellung': '2015-06-29T00:00:00',\n",
       "   'sb_objektart': 1,\n",
       "   'volumen_speicher': 4800,\n",
       "   'waermeertrag': 25540,\n",
       "   'klasse': 3,\n",
       "   'flaeche': 124.8528654264,\n",
       "   'ausrichtung': -180,\n",
       "   'finanzertrag': 2155.5,\n",
       "   'stromertrag': 21555,\n",
       "   'monats_ertrag': [8.028816227,\n",
       "    12.7730107068,\n",
       "    22.568388263,\n",
       "    26.8166147557,\n",
       "    24.4723232834,\n",
       "    21.8203692433,\n",
       "    17.9029482848,\n",
       "    15.9307518188,\n",
       "    6.3776545757,\n",
       "    3.0270840078,\n",
       "    2.0770820578,\n",
       "    3.0189235522],\n",
       "   'gs_serie_start': '2022-10-01T00:00:00',\n",
       "   'klasse_text': 'Gut##Bonne##Buona##Good##Gut',\n",
       "   'df_nummer': 1,\n",
       "   'neigung': 0,\n",
       "   'label': 16745794}},\n",
       " {'type': 'Feature',\n",
       "  'featureId': 16745798,\n",
       "  'bbox': [2745661.8, 1254117.1, 2745696.4, 1254140.8],\n",
       "  'layerBodId': 'ch.bfe.solarenergie-eignung-daecher',\n",
       "  'layerName': 'Solar energy: suitability of roofs',\n",
       "  'id': 16745798,\n",
       "  'geometry': {'type': 'MultiPolygon',\n",
       "   'coordinates': [[[[2745693.9, 1254130.9],\n",
       "      [2745671.7, 1254117.1],\n",
       "      [2745661.8, 1254119.4],\n",
       "      [2745696.4, 1254140.8],\n",
       "      [2745693.9, 1254130.9]]]]},\n",
       "  'properties': {'monate': [10, 9, 8, 7, 6, 5, 4, 3, 2, 1, 12, 11],\n",
       "   'building_id': 527069,\n",
       "   'a_param': [0.2906374447,\n",
       "    0.611679594,\n",
       "    0.7083464405,\n",
       "    0.7987807161,\n",
       "    0.7741414084,\n",
       "    0.7471578003,\n",
       "    0.6675143136,\n",
       "    0.5009496253,\n",
       "    0.2478713579,\n",
       "    -0.0245813054,\n",
       "    -0.0604781153,\n",
       "    0.0667746012],\n",
       "   'b_param': [0.7131205661,\n",
       "    0.8232165751,\n",
       "    0.7035129153,\n",
       "    0.9269735806,\n",
       "    0.8109882235,\n",
       "    0.839912098,\n",
       "    0.8305562297,\n",
       "    0.8556729308,\n",
       "    0.8443842721,\n",
       "    0.7968375558,\n",
       "    0.7635561032,\n",
       "    0.8234379675],\n",
       "   'c_param': [6.3315561626,\n",
       "    -0.5449509976,\n",
       "    11.8673678461,\n",
       "    -2.8281753894,\n",
       "    9.8337065283,\n",
       "    4.8559245077,\n",
       "    2.5344731962,\n",
       "    -0.3054260927,\n",
       "    -0.34722585,\n",
       "    1.26600546,\n",
       "    1.2065962973,\n",
       "    0.4976567583],\n",
       "   'heizgradtage': [240.0,\n",
       "    91.0,\n",
       "    12.0,\n",
       "    11.0,\n",
       "    47.0,\n",
       "    150.0,\n",
       "    275.0,\n",
       "    483.0,\n",
       "    553.0,\n",
       "    612.0,\n",
       "    591.0,\n",
       "    448.0],\n",
       "   'bedarf_heizung': 403982,\n",
       "   'bedarf_warmwasser': 19101,\n",
       "   'datum_aenderung': '2020-12-04T15:22:24',\n",
       "   'datum_erstellung': '2020-12-04T15:22:24',\n",
       "   'dg_heizung': 5,\n",
       "   'dg_waermebedarf': 6,\n",
       "   'duschgaenge': 57,\n",
       "   'flaeche_kollektoren': 85.3199990458,\n",
       "   'gstrahlung': 234754,\n",
       "   'mstrahlung': 882,\n",
       "   'sb_datum_aenderung': '2015-06-30T14:56:07',\n",
       "   'sb_datum_erstellung': '2015-06-29T00:00:00',\n",
       "   'sb_objektart': 1,\n",
       "   'volumen_speicher': 5700,\n",
       "   'waermeertrag': 23975,\n",
       "   'klasse': 2,\n",
       "   'flaeche': 266.160954005,\n",
       "   'ausrichtung': 148,\n",
       "   'finanzertrag': 3756.1,\n",
       "   'stromertrag': 37561,\n",
       "   'monats_ertrag': [5.2249692,\n",
       "    9.4916370801,\n",
       "    17.9287886547,\n",
       "    22.9709572342,\n",
       "    20.8676361884,\n",
       "    18.407679575,\n",
       "    14.0307639195,\n",
       "    10.7339894351,\n",
       "    3.8287469381,\n",
       "    2.0135396413,\n",
       "    1.4796200382,\n",
       "    2.1124241996],\n",
       "   'gs_serie_start': '2022-10-01T00:00:00',\n",
       "   'klasse_text': 'Mittel##Moyenne##Media##Mean##Mittel',\n",
       "   'df_nummer': 5,\n",
       "   'neigung': 26,\n",
       "   'label': 16745798}}]"
      ]
     },
     "execution_count": 25,
     "metadata": {},
     "output_type": "execute_result"
    }
   ],
   "source": [
    "# https://github.com/ThesisRocker/Data2DollarFS22/blob/0f7344650e6c6c43bc4057502493ea4afbce64f3/06_Abgabe%20Gruppenarbeit/Gruppe%201/sonnendach/script_solar_2.py\n",
    "\n",
    "def get_geo_admin_data(address):\n",
    "    addr_easting, addr_northing = get_easting_northing_lv95(address)\n",
    "\n",
    "    # Uses the swiss coordinate system LV95\n",
    "    url = f\"https://api3.geo.admin.ch/rest/services/all/MapServer/identify?geometry={addr_easting},{addr_northing}&geometryFormat=geojson&geometryType=esriGeometryPoint&imageDisplay=1680,388,96&lang=en&layers=all:ch.bfe.solarenergie-eignung-daecher&limit=10&mapExtent=2745356.382965297,1254042.6972188372,2746005.609812927,1254192.6377050756&returnGeometry=true&sr=2056&tolerance=10\"\n",
    "\n",
    "    # Make the request to the API using requests library\n",
    "    result_building = requests.get(url)\n",
    "\n",
    "    # Transform result into json format\n",
    "    result_building_json = result_building.json()\n",
    "\n",
    "    return result_building_json[\"results\"]\n",
    "\n",
    "\n",
    "get_geo_admin_data(\"St. Leonhard-Strasse 45, St. Gallen\")"
   ]
  },
  {
   "cell_type": "code",
   "execution_count": 27,
   "metadata": {},
   "outputs": [
    {
     "data": {
      "text/plain": [
       "['https://www.uvek-gis.admin.ch/BFE/sonnendach/?featureId=16745794&lang=de',\n",
       " 'https://www.uvek-gis.admin.ch/BFE/sonnendach/?featureId=16745798&lang=de']"
      ]
     },
     "execution_count": 27,
     "metadata": {},
     "output_type": "execute_result"
    }
   ],
   "source": [
    "def get_links_to_sonnendach(data):\n",
    "    links = []\n",
    "\n",
    "    for result in data:\n",
    "        id = result[\"id\"]\n",
    "        links.append(f\"https://www.uvek-gis.admin.ch/BFE/sonnendach/?featureId={id}&lang=de\")\n",
    "\n",
    "    return links\n",
    "\n",
    "get_links_to_sonnendach(get_geo_admin_data(\"St. Leonhard-Strasse 45, St. Gallen\"))"
   ]
  },
  {
   "cell_type": "markdown",
   "metadata": {},
   "source": [
    "https://map.geo.admin.ch/?lang=de&topic=energie&bgLayer=ch.swisstopo.swissimage&catalogNodes=2419,2420,2427,2480,2429,2431,2434,2436,2767,2441,3206&layers=ch.swisstopo.amtliches-strassenverzeichnis,ch.bfe.solarenergie-eignung-daecher&zoom=12&X=254130&Y=745681&layers_opacity=0.85,0.65\n",
    "\n",
    "\n"
   ]
  },
  {
   "cell_type": "code",
   "execution_count": 37,
   "metadata": {},
   "outputs": [
    {
     "name": "stdout",
     "output_type": "stream",
     "text": [
      "2745681.0 1254130.25\n",
      "https://map.geo.admin.ch/embed.html?lang=de&topic=energie&bgLayer=ch.swisstopo.swissimage&catalogNodes=2419,2420,2427,2480,2429,2431,2434,2436,2767,2441,3206&layers=ch.swisstopo.amtliches-strassenverzeichnis,ch.bfe.solarenergie-eignung-daecher&zoom=12&X=254130&Y=745681&layers_opacity=0.85,0.65\n"
     ]
    }
   ],
   "source": [
    "def get_iframe_url(address):\n",
    "    addr_easting, addr_northing = get_easting_northing_lv95(address)\n",
    "\n",
    "    print(addr_easting, addr_northing)\n",
    "\n",
    "    #url = f\"<iframe src='https://map.geo.admin.ch/embed.html?lang=de&topic=energie&bgLayer=ch.swisstopo.swissimage&catalogNodes=2419,2420,2427,2480,2429,2431,2434,2436,2767,2441,3206&layers=ch.swisstopo.amtliches-strassenverzeichnis,ch.bfe.solarenergie-eignung-daecher&zoom=12&X=254130&Y=745681&layers_opacity=0.85,0.65' width='400' height='300' frameborder='0' style='border:0' allow='geolocation'></iframe>\"\n",
    "    url = f\"https://map.geo.admin.ch/embed.html?lang=de&topic=energie&bgLayer=ch.swisstopo.swissimage&catalogNodes=2419,2420,2427,2480,2429,2431,2434,2436,2767,2441,3206&layers=ch.swisstopo.amtliches-strassenverzeichnis,ch.bfe.solarenergie-eignung-daecher&zoom=12&X={addr_northing}&Y={addr_easting}&layers_opacity=0.85,0.65\"\n",
    "    return url\n",
    "    print(url)\n",
    "    frame = f\"<iframe src='{url}' width='400' height='300' frameborder='0' style='border:0' allow='geolocation'></iframe>\"\n",
    "\n",
    "get_iframe(\"St. Leonhard-Strasse 45, St. Gallen\")"
   ]
  },
  {
   "cell_type": "code",
   "execution_count": 49,
   "metadata": {},
   "outputs": [
    {
     "name": "stdout",
     "output_type": "stream",
     "text": [
      "2745681.0 1254130.25\n"
     ]
    },
    {
     "data": {
      "text/html": [
       "\n",
       "        <iframe\n",
       "            width=\"600\"\n",
       "            height=\"450\"\n",
       "            src=\"https://map.geo.admin.ch/embed.html?lang=de&topic=energie&bgLayer=ch.swisstopo.swissimage&catalogNodes=2419,2420,2427,2480,2429,2431,2434,2436,2767,2441,3206&layers=ch.swisstopo.amtliches-strassenverzeichnis,ch.bfe.solarenergie-eignung-daecher&zoom=12&X=1254130.25&Y=2745681.0&layers_opacity=0.85,0.65\"\n",
       "            frameborder=\"0\"\n",
       "            allowfullscreen\n",
       "            \n",
       "        ></iframe>\n",
       "        "
      ],
      "text/plain": [
       "<IPython.lib.display.IFrame at 0x104e07e20>"
      ]
     },
     "execution_count": 49,
     "metadata": {},
     "output_type": "execute_result"
    }
   ],
   "source": [
    "from IPython.display import IFrame\n",
    "IFrame(get_iframe_url(\"St. Leonhard-Strasse 45, St. Gallen\"), width=600, height=450)"
   ]
  },
  {
   "cell_type": "markdown",
   "metadata": {},
   "source": [
    "https://www.sg.ch/umwelt-natur/energie/Energiegesetz.html\n",
    "\n"
   ]
  },
  {
   "cell_type": "code",
   "execution_count": null,
   "metadata": {},
   "outputs": [],
   "source": []
  }
 ],
 "metadata": {
  "kernelspec": {
   "display_name": "Python 3.10.6 ('jupyterlab')",
   "language": "python",
   "name": "python3"
  },
  "language_info": {
   "codemirror_mode": {
    "name": "ipython",
    "version": 3
   },
   "file_extension": ".py",
   "mimetype": "text/x-python",
   "name": "python",
   "nbconvert_exporter": "python",
   "pygments_lexer": "ipython3",
   "version": "3.10.6"
  },
  "orig_nbformat": 4,
  "vscode": {
   "interpreter": {
    "hash": "c8d831be3a9fe87043bd627c454c9f5d764486d697bf6dd50e225044314e23b0"
   }
  }
 },
 "nbformat": 4,
 "nbformat_minor": 2
}
